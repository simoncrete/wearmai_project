{
 "cells": [
  {
   "cell_type": "markdown",
   "metadata": {
    "colab_type": "text",
    "id": "LLWBN5CykNcr"
   },
   "source": [
    "## Install Dependencies"
   ]
  },
  {
   "cell_type": "markdown",
   "metadata": {
    "colab_type": "text",
    "id": "3DS5c4fU5anq"
   },
   "source": [
    "### mesa"
   ]
  },
  {
   "cell_type": "code",
   "execution_count": null,
   "metadata": {
    "colab": {},
    "colab_type": "code",
    "id": "i93i258hqkLK"
   },
   "outputs": [],
   "source": [
    "!apt-get update\n",
    "!apt-get install llvm-6.0 llvm-6.0-tools\n",
    "!wget https://github.com/mmatl/travis_debs/raw/master/xenial/mesa_18.3.3-0.deb\n",
    "!dpkg -i ./mesa_18.3.3-0.deb || true\n",
    "!apt-get install -f"
   ]
  },
  {
   "cell_type": "markdown",
   "metadata": {
    "colab_type": "text",
    "id": "iHAJGJ4n5dyk"
   },
   "source": [
    "### SPIN"
   ]
  },
  {
   "cell_type": "code",
   "execution_count": null,
   "metadata": {
    "colab": {},
    "colab_type": "code",
    "id": "jFUGIM-8hYom"
   },
   "outputs": [],
   "source": [
    "!git clone https://github.com/nkolot/SPIN.git\n",
    "%cd SPIN\n",
    "!pip install -r requirements.txt\n",
    "!pip uninstall pyopengl scipy -y\n",
    "!pip install git+https://github.com/mmatl/pyopengl.git\n",
    "!pip install scipy==1.1.0"
   ]
  },
  {
   "cell_type": "markdown",
   "metadata": {
    "colab_type": "text",
    "id": "CIdzL_hJtwio"
   },
   "source": [
    "## Download Dataset / Model"
   ]
  },
  {
   "cell_type": "code",
   "execution_count": null,
   "metadata": {
    "colab": {},
    "colab_type": "code",
    "id": "43rM3oj1lpec"
   },
   "outputs": [],
   "source": [
    "!./fetch_data.sh"
   ]
  },
  {
   "cell_type": "markdown",
   "metadata": {
    "colab_type": "text",
    "id": "YXMhFB3AyOD9"
   },
   "source": [
    "### Retrieve SMPL Dataset"
   ]
  },
  {
   "cell_type": "markdown",
   "metadata": {
    "colab_type": "text",
    "id": "EXE3hu2_yWcv"
   },
   "source": [
    "You will need the [neutral model](http://smplify.is.tue.mpg.de) for training and running the demo code, while the [male and female models](http://smpl.is.tue.mpg.de/) will be necessary for evaluation on the 3DPW dataset."
   ]
  },
  {
   "cell_type": "markdown",
   "metadata": {
    "colab_type": "text",
    "id": "2cAFKs4p2E2y"
   },
   "source": [
    "#### Neural Model"
   ]
  },
  {
   "cell_type": "code",
   "execution_count": null,
   "metadata": {
    "colab": {},
    "colab_type": "code",
    "id": "8PzUOaSNyR_Z"
   },
   "outputs": [],
   "source": [
    "# http://smpl.is.tue.mpg.de/ (Neutral Model)\n",
    "#!wget http://smpl.is.tue.mpg.de -O SMPL_python_v.1.0.0.zip\n",
    "!unzip SMPL_python_v.1.0.0.zip -d data && rm -rf data/__MACOSX && rm -r SMPL_python_v.1.0.0.zip"
   ]
  },
  {
   "cell_type": "code",
   "execution_count": null,
   "metadata": {
    "colab": {},
    "colab_type": "code",
    "id": "_Gyu39Cu1EPI"
   },
   "outputs": [],
   "source": [
    "# Only pull smplx and install chumpy once (if you did it for male / female models already)\n",
    "!git clone https://github.com/vchoutas/smplx.git\n",
    "!pip2 install chumpy\n",
    "!python2 smplx/tools/clean_ch.py --input-models data/smpl/models/*.pkl --output-folder data/smpl\n",
    "\n",
    "# Rename basicModel_neutral_lbs_10_207_0_v1.0.0.pkl to SMPL_NEUTRAL.pkl\n",
    "!mv data/smpl/basicModel_neutral_lbs_10_207_0_v1.0.0.pkl data/smpl/SMPL_NEUTRAL.pkl"
   ]
  },
  {
   "cell_type": "markdown",
   "metadata": {
    "colab_type": "text",
    "id": "8RqG3-iP2Ho9"
   },
   "source": [
    "#### Male and Female Models"
   ]
  },
  {
   "cell_type": "code",
   "execution_count": null,
   "metadata": {
    "colab": {},
    "colab_type": "code",
    "id": "Eykpa1LD0zMZ"
   },
   "outputs": [],
   "source": [
    "# http://smplify.is.tue.mpg.de (Male and Female Models)\n",
    "#!wget http://smplify.is.tue.mpg.de -O mpips-smplify_public_v2.zip\n",
    "!unzip mpips-smplify_public_v2.zip -d data && rm -r mpips-smplify_public_v2.zip"
   ]
  },
  {
   "cell_type": "code",
   "execution_count": null,
   "metadata": {
    "colab": {},
    "colab_type": "code",
    "id": "FVAqTXi417gN"
   },
   "outputs": [],
   "source": [
    "# Only pull smplx and install chumpy once (if you did in previous neurtal model)\n",
    "!git clone https://github.com/vchoutas/smplx.git\n",
    "!pip2 install chumpy\n",
    "!python2 smplx/tools/clean_ch.py --input-models data/smplify_public/code/models/*.pkl --output-folder data/smpl"
   ]
  },
  {
   "cell_type": "markdown",
   "metadata": {
    "colab_type": "text",
    "id": "I9p6oOxNngHE"
   },
   "source": [
    "## Run Demo"
   ]
  },
  {
   "cell_type": "markdown",
   "metadata": {
    "colab_type": "text",
    "id": "XU0LAoJg7vGz"
   },
   "source": [
    "### Neural Model"
   ]
  },
  {
   "cell_type": "code",
   "execution_count": null,
   "metadata": {
    "colab": {},
    "colab_type": "code",
    "id": "27WaJMuyni6j"
   },
   "outputs": [],
   "source": [
    "%%bash\n",
    "python3 demo.py \\\n",
    "  --checkpoint=data/model_checkpoint.pt \\\n",
    "  --img=examples/im1010.jpg \\\n",
    "  --openpose=examples/im1010_openpose.json"
   ]
  }
 ],
 "metadata": {
  "accelerator": "GPU",
  "colab": {
   "collapsed_sections": [],
   "name": "notebook.ipynb",
   "provenance": []
  },
  "kernelspec": {
   "display_name": "Python 3 (ipykernel)",
   "language": "python",
   "name": "python3"
  },
  "language_info": {
   "codemirror_mode": {
    "name": "ipython",
    "version": 3
   },
   "file_extension": ".py",
   "mimetype": "text/x-python",
   "name": "python",
   "nbconvert_exporter": "python",
   "pygments_lexer": "ipython3",
   "version": "3.10.12"
  }
 },
 "nbformat": 4,
 "nbformat_minor": 4
}
